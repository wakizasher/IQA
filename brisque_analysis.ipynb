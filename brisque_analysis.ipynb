{
 "cells": [
  {
   "cell_type": "code",
   "id": "initial_id",
   "metadata": {
    "collapsed": true,
    "ExecuteTime": {
     "end_time": "2025-05-06T06:57:55.358240Z",
     "start_time": "2025-05-06T06:57:55.334484Z"
    }
   },
   "source": [
    "import pandas as pd\n",
    "import numpy as np\n",
    "import matplotlib.pyplot as plt\n",
    "from sklearn.preprocessing import MinMaxScaler"
   ],
   "outputs": [],
   "execution_count": 7
  },
  {
   "metadata": {},
   "cell_type": "markdown",
   "source": "## Load the Dataset",
   "id": "8dd703b8fedc39d7"
  },
  {
   "metadata": {
    "ExecuteTime": {
     "end_time": "2025-05-06T06:57:55.420526Z",
     "start_time": "2025-05-06T06:57:55.407017Z"
    }
   },
   "cell_type": "code",
   "source": "df = pd.read_csv(r\"C:\\Users\\nikit\\Pycharm\\No_Reference\\valid_brisque_results.csv\")\n",
   "id": "a5db76c6557fbcff",
   "outputs": [],
   "execution_count": 8
  },
  {
   "metadata": {
    "ExecuteTime": {
     "end_time": "2025-05-06T06:57:55.450682Z",
     "start_time": "2025-05-06T06:57:55.429995Z"
    }
   },
   "cell_type": "code",
   "source": "df.head()",
   "id": "7466049b17587d6a",
   "outputs": [
    {
     "data": {
      "text/plain": [
       "                                          Image_Path  BRISQUE_score\n",
       "0   E:\\iNaturalist\\test_images\\Bellis_perennis_0.jpg      43.718621\n",
       "1   E:\\iNaturalist\\test_images\\Bellis_perennis_1.JPG       6.560191\n",
       "2  E:\\iNaturalist\\test_images\\Bellis_perennis_10.JPG       7.297471\n",
       "3  E:\\iNaturalist\\test_images\\Bellis_perennis_100...      22.822918\n",
       "4  E:\\iNaturalist\\test_images\\Bellis_perennis_101...      16.819323"
      ],
      "text/html": [
       "<div>\n",
       "<style scoped>\n",
       "    .dataframe tbody tr th:only-of-type {\n",
       "        vertical-align: middle;\n",
       "    }\n",
       "\n",
       "    .dataframe tbody tr th {\n",
       "        vertical-align: top;\n",
       "    }\n",
       "\n",
       "    .dataframe thead th {\n",
       "        text-align: right;\n",
       "    }\n",
       "</style>\n",
       "<table border=\"1\" class=\"dataframe\">\n",
       "  <thead>\n",
       "    <tr style=\"text-align: right;\">\n",
       "      <th></th>\n",
       "      <th>Image_Path</th>\n",
       "      <th>BRISQUE_score</th>\n",
       "    </tr>\n",
       "  </thead>\n",
       "  <tbody>\n",
       "    <tr>\n",
       "      <th>0</th>\n",
       "      <td>E:\\iNaturalist\\test_images\\Bellis_perennis_0.jpg</td>\n",
       "      <td>43.718621</td>\n",
       "    </tr>\n",
       "    <tr>\n",
       "      <th>1</th>\n",
       "      <td>E:\\iNaturalist\\test_images\\Bellis_perennis_1.JPG</td>\n",
       "      <td>6.560191</td>\n",
       "    </tr>\n",
       "    <tr>\n",
       "      <th>2</th>\n",
       "      <td>E:\\iNaturalist\\test_images\\Bellis_perennis_10.JPG</td>\n",
       "      <td>7.297471</td>\n",
       "    </tr>\n",
       "    <tr>\n",
       "      <th>3</th>\n",
       "      <td>E:\\iNaturalist\\test_images\\Bellis_perennis_100...</td>\n",
       "      <td>22.822918</td>\n",
       "    </tr>\n",
       "    <tr>\n",
       "      <th>4</th>\n",
       "      <td>E:\\iNaturalist\\test_images\\Bellis_perennis_101...</td>\n",
       "      <td>16.819323</td>\n",
       "    </tr>\n",
       "  </tbody>\n",
       "</table>\n",
       "</div>"
      ]
     },
     "execution_count": 9,
     "metadata": {},
     "output_type": "execute_result"
    }
   ],
   "execution_count": 9
  },
  {
   "metadata": {
    "ExecuteTime": {
     "end_time": "2025-05-06T06:57:55.527149Z",
     "start_time": "2025-05-06T06:57:55.512965Z"
    }
   },
   "cell_type": "code",
   "source": "df.describe()",
   "id": "e634df51e9d51f98",
   "outputs": [
    {
     "data": {
      "text/plain": [
       "       BRISQUE_score\n",
       "count     305.000000\n",
       "mean       21.337192\n",
       "std        12.702760\n",
       "min        -2.565749\n",
       "25%        10.889477\n",
       "50%        18.650715\n",
       "75%        30.386926\n",
       "max        63.673948"
      ],
      "text/html": [
       "<div>\n",
       "<style scoped>\n",
       "    .dataframe tbody tr th:only-of-type {\n",
       "        vertical-align: middle;\n",
       "    }\n",
       "\n",
       "    .dataframe tbody tr th {\n",
       "        vertical-align: top;\n",
       "    }\n",
       "\n",
       "    .dataframe thead th {\n",
       "        text-align: right;\n",
       "    }\n",
       "</style>\n",
       "<table border=\"1\" class=\"dataframe\">\n",
       "  <thead>\n",
       "    <tr style=\"text-align: right;\">\n",
       "      <th></th>\n",
       "      <th>BRISQUE_score</th>\n",
       "    </tr>\n",
       "  </thead>\n",
       "  <tbody>\n",
       "    <tr>\n",
       "      <th>count</th>\n",
       "      <td>305.000000</td>\n",
       "    </tr>\n",
       "    <tr>\n",
       "      <th>mean</th>\n",
       "      <td>21.337192</td>\n",
       "    </tr>\n",
       "    <tr>\n",
       "      <th>std</th>\n",
       "      <td>12.702760</td>\n",
       "    </tr>\n",
       "    <tr>\n",
       "      <th>min</th>\n",
       "      <td>-2.565749</td>\n",
       "    </tr>\n",
       "    <tr>\n",
       "      <th>25%</th>\n",
       "      <td>10.889477</td>\n",
       "    </tr>\n",
       "    <tr>\n",
       "      <th>50%</th>\n",
       "      <td>18.650715</td>\n",
       "    </tr>\n",
       "    <tr>\n",
       "      <th>75%</th>\n",
       "      <td>30.386926</td>\n",
       "    </tr>\n",
       "    <tr>\n",
       "      <th>max</th>\n",
       "      <td>63.673948</td>\n",
       "    </tr>\n",
       "  </tbody>\n",
       "</table>\n",
       "</div>"
      ]
     },
     "execution_count": 10,
     "metadata": {},
     "output_type": "execute_result"
    }
   ],
   "execution_count": 10
  },
  {
   "metadata": {
    "ExecuteTime": {
     "end_time": "2025-05-06T06:57:55.667505Z",
     "start_time": "2025-05-06T06:57:55.653137Z"
    }
   },
   "cell_type": "code",
   "source": "df.loc[df[\"BRISQUE_score\"] > 50]",
   "id": "44544110045fdfa0",
   "outputs": [
    {
     "data": {
      "text/plain": [
       "                                            Image_Path  BRISQUE_score\n",
       "9    E:\\iNaturalist\\test_images\\Bellis_perennis_106...      52.191960\n",
       "70   E:\\iNaturalist\\test_images\\Bellis_perennis_67.jpg      57.282214\n",
       "102  E:\\iNaturalist\\test_images\\Bellis_perennis_97.JPG      50.576780\n",
       "206  E:\\iNaturalist\\test_images\\Matricaria_chamomil...      63.673948\n",
       "265  E:\\iNaturalist\\test_images\\Matricaria_chamomil...      50.645396"
      ],
      "text/html": [
       "<div>\n",
       "<style scoped>\n",
       "    .dataframe tbody tr th:only-of-type {\n",
       "        vertical-align: middle;\n",
       "    }\n",
       "\n",
       "    .dataframe tbody tr th {\n",
       "        vertical-align: top;\n",
       "    }\n",
       "\n",
       "    .dataframe thead th {\n",
       "        text-align: right;\n",
       "    }\n",
       "</style>\n",
       "<table border=\"1\" class=\"dataframe\">\n",
       "  <thead>\n",
       "    <tr style=\"text-align: right;\">\n",
       "      <th></th>\n",
       "      <th>Image_Path</th>\n",
       "      <th>BRISQUE_score</th>\n",
       "    </tr>\n",
       "  </thead>\n",
       "  <tbody>\n",
       "    <tr>\n",
       "      <th>9</th>\n",
       "      <td>E:\\iNaturalist\\test_images\\Bellis_perennis_106...</td>\n",
       "      <td>52.191960</td>\n",
       "    </tr>\n",
       "    <tr>\n",
       "      <th>70</th>\n",
       "      <td>E:\\iNaturalist\\test_images\\Bellis_perennis_67.jpg</td>\n",
       "      <td>57.282214</td>\n",
       "    </tr>\n",
       "    <tr>\n",
       "      <th>102</th>\n",
       "      <td>E:\\iNaturalist\\test_images\\Bellis_perennis_97.JPG</td>\n",
       "      <td>50.576780</td>\n",
       "    </tr>\n",
       "    <tr>\n",
       "      <th>206</th>\n",
       "      <td>E:\\iNaturalist\\test_images\\Matricaria_chamomil...</td>\n",
       "      <td>63.673948</td>\n",
       "    </tr>\n",
       "    <tr>\n",
       "      <th>265</th>\n",
       "      <td>E:\\iNaturalist\\test_images\\Matricaria_chamomil...</td>\n",
       "      <td>50.645396</td>\n",
       "    </tr>\n",
       "  </tbody>\n",
       "</table>\n",
       "</div>"
      ]
     },
     "execution_count": 11,
     "metadata": {},
     "output_type": "execute_result"
    }
   ],
   "execution_count": 11
  },
  {
   "metadata": {
    "ExecuteTime": {
     "end_time": "2025-05-06T06:57:55.904108Z",
     "start_time": "2025-05-06T06:57:55.889432Z"
    }
   },
   "cell_type": "code",
   "source": "df.loc[df[\"BRISQUE_score\"] < 5]",
   "id": "b68c9d21be4789d2",
   "outputs": [
    {
     "data": {
      "text/plain": [
       "                                            Image_Path  BRISQUE_score\n",
       "12   E:\\iNaturalist\\test_images\\Bellis_perennis_11.jpg       3.992462\n",
       "29   E:\\iNaturalist\\test_images\\Bellis_perennis_28.jpg       1.031742\n",
       "34   E:\\iNaturalist\\test_images\\Bellis_perennis_32.jpg       2.900021\n",
       "49   E:\\iNaturalist\\test_images\\Bellis_perennis_47.jpg      -1.842139\n",
       "62   E:\\iNaturalist\\test_images\\Bellis_perennis_59.jpg       1.334942\n",
       "76   E:\\iNaturalist\\test_images\\Bellis_perennis_72.jpg       3.464314\n",
       "98   E:\\iNaturalist\\test_images\\Bellis_perennis_93.jpg       3.385410\n",
       "107  E:\\iNaturalist\\test_images\\Leucanthemum_vulgar...       4.408313\n",
       "110  E:\\iNaturalist\\test_images\\Leucanthemum_vulgar...       0.769653\n",
       "129  E:\\iNaturalist\\test_images\\Leucanthemum_vulgar...       3.200948\n",
       "159  E:\\iNaturalist\\test_images\\Leucanthemum_vulgar...      -2.565749\n",
       "174  E:\\iNaturalist\\test_images\\Leucanthemum_vulgar...       4.194202\n",
       "189  E:\\iNaturalist\\test_images\\Leucanthemum_vulgar...      -0.341409\n",
       "214  E:\\iNaturalist\\test_images\\Matricaria_chamomil...      -2.379884\n",
       "224  E:\\iNaturalist\\test_images\\Matricaria_chamomil...       3.022712\n",
       "231  E:\\iNaturalist\\test_images\\Matricaria_chamomil...       4.396827\n",
       "237  E:\\iNaturalist\\test_images\\Matricaria_chamomil...      -0.940165\n",
       "258  E:\\iNaturalist\\test_images\\Matricaria_chamomil...       4.625417"
      ],
      "text/html": [
       "<div>\n",
       "<style scoped>\n",
       "    .dataframe tbody tr th:only-of-type {\n",
       "        vertical-align: middle;\n",
       "    }\n",
       "\n",
       "    .dataframe tbody tr th {\n",
       "        vertical-align: top;\n",
       "    }\n",
       "\n",
       "    .dataframe thead th {\n",
       "        text-align: right;\n",
       "    }\n",
       "</style>\n",
       "<table border=\"1\" class=\"dataframe\">\n",
       "  <thead>\n",
       "    <tr style=\"text-align: right;\">\n",
       "      <th></th>\n",
       "      <th>Image_Path</th>\n",
       "      <th>BRISQUE_score</th>\n",
       "    </tr>\n",
       "  </thead>\n",
       "  <tbody>\n",
       "    <tr>\n",
       "      <th>12</th>\n",
       "      <td>E:\\iNaturalist\\test_images\\Bellis_perennis_11.jpg</td>\n",
       "      <td>3.992462</td>\n",
       "    </tr>\n",
       "    <tr>\n",
       "      <th>29</th>\n",
       "      <td>E:\\iNaturalist\\test_images\\Bellis_perennis_28.jpg</td>\n",
       "      <td>1.031742</td>\n",
       "    </tr>\n",
       "    <tr>\n",
       "      <th>34</th>\n",
       "      <td>E:\\iNaturalist\\test_images\\Bellis_perennis_32.jpg</td>\n",
       "      <td>2.900021</td>\n",
       "    </tr>\n",
       "    <tr>\n",
       "      <th>49</th>\n",
       "      <td>E:\\iNaturalist\\test_images\\Bellis_perennis_47.jpg</td>\n",
       "      <td>-1.842139</td>\n",
       "    </tr>\n",
       "    <tr>\n",
       "      <th>62</th>\n",
       "      <td>E:\\iNaturalist\\test_images\\Bellis_perennis_59.jpg</td>\n",
       "      <td>1.334942</td>\n",
       "    </tr>\n",
       "    <tr>\n",
       "      <th>76</th>\n",
       "      <td>E:\\iNaturalist\\test_images\\Bellis_perennis_72.jpg</td>\n",
       "      <td>3.464314</td>\n",
       "    </tr>\n",
       "    <tr>\n",
       "      <th>98</th>\n",
       "      <td>E:\\iNaturalist\\test_images\\Bellis_perennis_93.jpg</td>\n",
       "      <td>3.385410</td>\n",
       "    </tr>\n",
       "    <tr>\n",
       "      <th>107</th>\n",
       "      <td>E:\\iNaturalist\\test_images\\Leucanthemum_vulgar...</td>\n",
       "      <td>4.408313</td>\n",
       "    </tr>\n",
       "    <tr>\n",
       "      <th>110</th>\n",
       "      <td>E:\\iNaturalist\\test_images\\Leucanthemum_vulgar...</td>\n",
       "      <td>0.769653</td>\n",
       "    </tr>\n",
       "    <tr>\n",
       "      <th>129</th>\n",
       "      <td>E:\\iNaturalist\\test_images\\Leucanthemum_vulgar...</td>\n",
       "      <td>3.200948</td>\n",
       "    </tr>\n",
       "    <tr>\n",
       "      <th>159</th>\n",
       "      <td>E:\\iNaturalist\\test_images\\Leucanthemum_vulgar...</td>\n",
       "      <td>-2.565749</td>\n",
       "    </tr>\n",
       "    <tr>\n",
       "      <th>174</th>\n",
       "      <td>E:\\iNaturalist\\test_images\\Leucanthemum_vulgar...</td>\n",
       "      <td>4.194202</td>\n",
       "    </tr>\n",
       "    <tr>\n",
       "      <th>189</th>\n",
       "      <td>E:\\iNaturalist\\test_images\\Leucanthemum_vulgar...</td>\n",
       "      <td>-0.341409</td>\n",
       "    </tr>\n",
       "    <tr>\n",
       "      <th>214</th>\n",
       "      <td>E:\\iNaturalist\\test_images\\Matricaria_chamomil...</td>\n",
       "      <td>-2.379884</td>\n",
       "    </tr>\n",
       "    <tr>\n",
       "      <th>224</th>\n",
       "      <td>E:\\iNaturalist\\test_images\\Matricaria_chamomil...</td>\n",
       "      <td>3.022712</td>\n",
       "    </tr>\n",
       "    <tr>\n",
       "      <th>231</th>\n",
       "      <td>E:\\iNaturalist\\test_images\\Matricaria_chamomil...</td>\n",
       "      <td>4.396827</td>\n",
       "    </tr>\n",
       "    <tr>\n",
       "      <th>237</th>\n",
       "      <td>E:\\iNaturalist\\test_images\\Matricaria_chamomil...</td>\n",
       "      <td>-0.940165</td>\n",
       "    </tr>\n",
       "    <tr>\n",
       "      <th>258</th>\n",
       "      <td>E:\\iNaturalist\\test_images\\Matricaria_chamomil...</td>\n",
       "      <td>4.625417</td>\n",
       "    </tr>\n",
       "  </tbody>\n",
       "</table>\n",
       "</div>"
      ]
     },
     "execution_count": 12,
     "metadata": {},
     "output_type": "execute_result"
    }
   ],
   "execution_count": 12
  },
  {
   "metadata": {},
   "cell_type": "markdown",
   "source": [
    "BRISQUE (Blind/Referenceless Image Spatial Quality Evaluator) is a no-reference image quality metric. It assigns a score to an image based on how \"natural\" its statistics are, compared to undistorted images. The interpretation is straightforward:\n",
    "- Lower BRISQUE score == Higher (better) image quality\n",
    "- Higher BRISQUE score == Lower (worse) image quality\n",
    "\n",
    "As a rule of thumb from the official documentation:\n",
    "0-30: Good quality\n",
    "More than 40: Poor quality"
   ],
   "id": "c38772dba52780a3"
  },
  {
   "metadata": {
    "ExecuteTime": {
     "end_time": "2025-05-06T06:57:56.327040Z",
     "start_time": "2025-05-06T06:57:56.107252Z"
    }
   },
   "cell_type": "code",
   "source": [
    "# Create a histogram with density and custom color\n",
    "plt.hist(df['BRISQUE_score'],bins = 40, color = 'blue', edgecolor='black', alpha=0.7, range=(0,70))\n",
    "plt.xlabel('Values')\n",
    "plt.title('Histogram')\n",
    "plt.show()"
   ],
   "id": "e458e70d817d7449",
   "outputs": [
    {
     "data": {
      "text/plain": [
       "<Figure size 640x480 with 1 Axes>"
      ],
      "image/png": "[encoded data removed]"
     },
     "metadata": {},
     "output_type": "display_data"
    }
   ],
   "execution_count": 13
  },
  {
   "metadata": {
    "ExecuteTime": {
     "end_time": "2025-05-06T06:57:56.686376Z",
     "start_time": "2025-05-06T06:57:56.591209Z"
    }
   },
   "cell_type": "code",
   "source": [
    "fig = plt.figure(figsize=(10,7))\n",
    "plt.boxplot(df['BRISQUE_score'])\n",
    "plt.title('Box Plot Scores Distribution')\n",
    "plt.show()"
   ],
   "id": "f9dc2d2379c629c4",
   "outputs": [
    {
     "data": {
      "text/plain": [
       "<Figure size 1000x700 with 1 Axes>"
      ],
      "image/png": "[encoded data removed]"
     },
     "metadata": {},
     "output_type": "display_data"
    }
   ],
   "execution_count": 14
  },
  {
   "metadata": {
    "ExecuteTime": {
     "end_time": "2025-05-06T06:57:56.843421Z",
     "start_time": "2025-05-06T06:57:56.826892Z"
    }
   },
   "cell_type": "code",
   "source": "q = df['BRISQUE_score'].quantile(0.99)",
   "id": "3d3875cacce0307d",
   "outputs": [],
   "execution_count": 15
  },
  {
   "metadata": {
    "ExecuteTime": {
     "end_time": "2025-05-06T06:57:56.953865Z",
     "start_time": "2025-05-06T06:57:56.941209Z"
    }
   },
   "cell_type": "code",
   "source": "df = df[df['BRISQUE_score'] < q]",
   "id": "884a4d238c53fbaa",
   "outputs": [],
   "execution_count": 16
  },
  {
   "metadata": {
    "ExecuteTime": {
     "end_time": "2025-05-06T06:57:57.231743Z",
     "start_time": "2025-05-06T06:57:57.002955Z"
    }
   },
   "cell_type": "code",
   "source": [
    "fig = plt.figure(figsize=(10,7))\n",
    "plt.boxplot(df['BRISQUE_score'])\n",
    "plt.xlabel('BRISQUE score')\n",
    "plt.title('Box Plot Scores Distribution without Outliers BRISQUE')\n",
    "plt.show()"
   ],
   "id": "415ae068e0e08ed6",
   "outputs": [
    {
     "data": {
      "text/plain": [
       "<Figure size 1000x700 with 1 Axes>"
      ],
      "image/png": "[encoded data removed]"
     },
     "metadata": {},
     "output_type": "display_data"
    }
   ],
   "execution_count": 17
  },
  {
   "metadata": {},
   "cell_type": "markdown",
   "source": "## Setting up the threshold",
   "id": "99eeb46660ace910"
  },
  {
   "metadata": {},
   "cell_type": "markdown",
   "source": [
    "Based on BRISQUE documentation, images above 30 score can be considered as bad images. Those are the images above my third quarter.\n",
    "Images above third quartile represent 25% of the worst images in terms of quality, according to my dataset distribution"
   ],
   "id": "e8e9204fffca38a4"
  },
  {
   "metadata": {
    "ExecuteTime": {
     "end_time": "2025-05-06T06:57:57.261628Z",
     "start_time": "2025-05-06T06:57:57.246617Z"
    }
   },
   "cell_type": "code",
   "source": [
    "q3 = df['BRISQUE_score'].quantile(0.75)\n",
    "\n",
    "df_good_images = df[df['BRISQUE_score'] < q3]\n",
    "df_bad_images = df[df['BRISQUE_score'] > q3]"
   ],
   "id": "3d9508709617922c",
   "outputs": [],
   "execution_count": 18
  },
  {
   "metadata": {
    "ExecuteTime": {
     "end_time": "2025-05-06T06:57:57.324011Z",
     "start_time": "2025-05-06T06:57:57.296808Z"
    }
   },
   "cell_type": "code",
   "source": "df_good_images.describe()",
   "id": "32a68334dccb31ba",
   "outputs": [
    {
     "data": {
      "text/plain": [
       "       BRISQUE_score\n",
       "count     225.000000\n",
       "mean       15.177256\n",
       "std         7.671483\n",
       "min        -2.565749\n",
       "25%         9.238566\n",
       "50%        15.477810\n",
       "75%        20.407219\n",
       "max        29.874129"
      ],
      "text/html": [
       "<div>\n",
       "<style scoped>\n",
       "    .dataframe tbody tr th:only-of-type {\n",
       "        vertical-align: middle;\n",
       "    }\n",
       "\n",
       "    .dataframe tbody tr th {\n",
       "        vertical-align: top;\n",
       "    }\n",
       "\n",
       "    .dataframe thead th {\n",
       "        text-align: right;\n",
       "    }\n",
       "</style>\n",
       "<table border=\"1\" class=\"dataframe\">\n",
       "  <thead>\n",
       "    <tr style=\"text-align: right;\">\n",
       "      <th></th>\n",
       "      <th>BRISQUE_score</th>\n",
       "    </tr>\n",
       "  </thead>\n",
       "  <tbody>\n",
       "    <tr>\n",
       "      <th>count</th>\n",
       "      <td>225.000000</td>\n",
       "    </tr>\n",
       "    <tr>\n",
       "      <th>mean</th>\n",
       "      <td>15.177256</td>\n",
       "    </tr>\n",
       "    <tr>\n",
       "      <th>std</th>\n",
       "      <td>7.671483</td>\n",
       "    </tr>\n",
       "    <tr>\n",
       "      <th>min</th>\n",
       "      <td>-2.565749</td>\n",
       "    </tr>\n",
       "    <tr>\n",
       "      <th>25%</th>\n",
       "      <td>9.238566</td>\n",
       "    </tr>\n",
       "    <tr>\n",
       "      <th>50%</th>\n",
       "      <td>15.477810</td>\n",
       "    </tr>\n",
       "    <tr>\n",
       "      <th>75%</th>\n",
       "      <td>20.407219</td>\n",
       "    </tr>\n",
       "    <tr>\n",
       "      <th>max</th>\n",
       "      <td>29.874129</td>\n",
       "    </tr>\n",
       "  </tbody>\n",
       "</table>\n",
       "</div>"
      ]
     },
     "execution_count": 19,
     "metadata": {},
     "output_type": "execute_result"
    }
   ],
   "execution_count": 19
  },
  {
   "metadata": {
    "ExecuteTime": {
     "end_time": "2025-05-06T06:57:57.433014Z",
     "start_time": "2025-05-06T06:57:57.404227Z"
    }
   },
   "cell_type": "code",
   "source": "df_good_images.loc[df['BRISQUE_score'] < 0]",
   "id": "116dfd9f787250a0",
   "outputs": [
    {
     "data": {
      "text/plain": [
       "                                            Image_Path  BRISQUE_score\n",
       "49   E:\\iNaturalist\\test_images\\Bellis_perennis_47.jpg      -1.842139\n",
       "159  E:\\iNaturalist\\test_images\\Leucanthemum_vulgar...      -2.565749\n",
       "189  E:\\iNaturalist\\test_images\\Leucanthemum_vulgar...      -0.341409\n",
       "214  E:\\iNaturalist\\test_images\\Matricaria_chamomil...      -2.379884\n",
       "237  E:\\iNaturalist\\test_images\\Matricaria_chamomil...      -0.940165"
      ],
      "text/html": [
       "<div>\n",
       "<style scoped>\n",
       "    .dataframe tbody tr th:only-of-type {\n",
       "        vertical-align: middle;\n",
       "    }\n",
       "\n",
       "    .dataframe tbody tr th {\n",
       "        vertical-align: top;\n",
       "    }\n",
       "\n",
       "    .dataframe thead th {\n",
       "        text-align: right;\n",
       "    }\n",
       "</style>\n",
       "<table border=\"1\" class=\"dataframe\">\n",
       "  <thead>\n",
       "    <tr style=\"text-align: right;\">\n",
       "      <th></th>\n",
       "      <th>Image_Path</th>\n",
       "      <th>BRISQUE_score</th>\n",
       "    </tr>\n",
       "  </thead>\n",
       "  <tbody>\n",
       "    <tr>\n",
       "      <th>49</th>\n",
       "      <td>E:\\iNaturalist\\test_images\\Bellis_perennis_47.jpg</td>\n",
       "      <td>-1.842139</td>\n",
       "    </tr>\n",
       "    <tr>\n",
       "      <th>159</th>\n",
       "      <td>E:\\iNaturalist\\test_images\\Leucanthemum_vulgar...</td>\n",
       "      <td>-2.565749</td>\n",
       "    </tr>\n",
       "    <tr>\n",
       "      <th>189</th>\n",
       "      <td>E:\\iNaturalist\\test_images\\Leucanthemum_vulgar...</td>\n",
       "      <td>-0.341409</td>\n",
       "    </tr>\n",
       "    <tr>\n",
       "      <th>214</th>\n",
       "      <td>E:\\iNaturalist\\test_images\\Matricaria_chamomil...</td>\n",
       "      <td>-2.379884</td>\n",
       "    </tr>\n",
       "    <tr>\n",
       "      <th>237</th>\n",
       "      <td>E:\\iNaturalist\\test_images\\Matricaria_chamomil...</td>\n",
       "      <td>-0.940165</td>\n",
       "    </tr>\n",
       "  </tbody>\n",
       "</table>\n",
       "</div>"
      ]
     },
     "execution_count": 20,
     "metadata": {},
     "output_type": "execute_result"
    }
   ],
   "execution_count": 20
  },
  {
   "metadata": {},
   "cell_type": "markdown",
   "source": "## Normalization",
   "id": "3316d2eff2da2e53"
  },
  {
   "metadata": {},
   "cell_type": "markdown",
   "source": "Rescale the score with min-max normalization so the minimum becomes 0 and the maximum becomes 1. After that invert the results so the 1 represents best looking images and the 0 represents worse looking images.",
   "id": "65a9abf4f14d66b7"
  },
  {
   "metadata": {
    "ExecuteTime": {
     "end_time": "2025-05-06T06:57:57.648577Z",
     "start_time": "2025-05-06T06:57:57.615875Z"
    }
   },
   "cell_type": "code",
   "source": [
    "scaler = MinMaxScaler()\n",
    "df_good_images.loc[:,'brisque_norm'] = scaler.fit_transform(df_good_images[['BRISQUE_score']])\n",
    "df_good_images.loc[:,'brisque_norm_inv'] = 1 - df_good_images.loc[:,'brisque_norm']"
   ],
   "id": "674c4b3aa0d12105",
   "outputs": [
    {
     "name": "stderr",
     "output_type": "stream",
     "text": [
      "C:\\Users\\nikit\\AppData\\Local\\Temp\\ipykernel_14036\\226502457.py:2: SettingWithCopyWarning: \n",
      "A value is trying to be set on a copy of a slice from a DataFrame.\n",
      "Try using .loc[row_indexer,col_indexer] = value instead\n",
      "\n",
      "See the caveats in the documentation: https://pandas.pydata.org/pandas-docs/stable/user_guide/indexing.html#returning-a-view-versus-a-copy\n",
      "  df_good_images.loc[:,'brisque_norm'] = scaler.fit_transform(df_good_images[['BRISQUE_score']])\n",
      "C:\\Users\\nikit\\AppData\\Local\\Temp\\ipykernel_14036\\226502457.py:3: SettingWithCopyWarning: \n",
      "A value is trying to be set on a copy of a slice from a DataFrame.\n",
      "Try using .loc[row_indexer,col_indexer] = value instead\n",
      "\n",
      "See the caveats in the documentation: https://pandas.pydata.org/pandas-docs/stable/user_guide/indexing.html#returning-a-view-versus-a-copy\n",
      "  df_good_images.loc[:,'brisque_norm_inv'] = 1 - df_good_images.loc[:,'brisque_norm']\n"
     ]
    }
   ],
   "execution_count": 21
  },
  {
   "metadata": {
    "ExecuteTime": {
     "end_time": "2025-05-06T06:57:57.896705Z",
     "start_time": "2025-05-06T06:57:57.883898Z"
    }
   },
   "cell_type": "code",
   "source": "df_bad_images.shape",
   "id": "9350c20a13691d6b",
   "outputs": [
    {
     "data": {
      "text/plain": [
       "(75, 2)"
      ]
     },
     "execution_count": 22,
     "metadata": {},
     "output_type": "execute_result"
    }
   ],
   "execution_count": 22
  },
  {
   "metadata": {
    "ExecuteTime": {
     "end_time": "2025-05-06T06:57:58.052038Z",
     "start_time": "2025-05-06T06:57:58.037481Z"
    }
   },
   "cell_type": "code",
   "source": "df_good_images.shape",
   "id": "d665d2c2be5c4838",
   "outputs": [
    {
     "data": {
      "text/plain": [
       "(225, 4)"
      ]
     },
     "execution_count": 23,
     "metadata": {},
     "output_type": "execute_result"
    }
   ],
   "execution_count": 23
  },
  {
   "metadata": {
    "ExecuteTime": {
     "end_time": "2025-05-06T06:57:58.177823Z",
     "start_time": "2025-05-06T06:57:58.168433Z"
    }
   },
   "cell_type": "code",
   "source": "",
   "id": "2e662f11a0e8a65d",
   "outputs": [],
   "execution_count": null
  }
 ],
 "metadata": {
  "kernelspec": {
   "display_name": "Python 3",
   "language": "python",
   "name": "python3"
  },
  "language_info": {
   "codemirror_mode": {
    "name": "ipython",
    "version": 2
   },
   "file_extension": ".py",
   "mimetype": "text/x-python",
   "name": "python",
   "nbconvert_exporter": "python",
   "pygments_lexer": "ipython2",
   "version": "2.7.6"
  }
 },
 "nbformat": 4,
 "nbformat_minor": 5
}
