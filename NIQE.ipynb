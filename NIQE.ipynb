{
 "cells": [
  {
   "cell_type": "code",
   "id": "initial_id",
   "metadata": {
    "collapsed": true,
    "ExecuteTime": {
     "end_time": "2025-04-25T17:17:04.612427Z",
     "start_time": "2025-04-25T17:17:04.604429Z"
    }
   },
   "source": [
    "import pandas as pd\n",
    "import numpy as np\n",
    "import matplotlib.pyplot as plt"
   ],
   "outputs": [],
   "execution_count": 13
  },
  {
   "metadata": {
    "ExecuteTime": {
     "end_time": "2025-04-25T16:55:24.454630Z",
     "start_time": "2025-04-25T16:55:24.407291Z"
    }
   },
   "cell_type": "code",
   "source": "df = pd.read_csv(r\"C:\\Users\\Nikita\\Projects\\Niqe_2\\valid_niqe_results.csv\")",
   "id": "5ba52d60c435166a",
   "outputs": [],
   "execution_count": 4
  },
  {
   "metadata": {
    "ExecuteTime": {
     "end_time": "2025-04-25T16:55:25.840005Z",
     "start_time": "2025-04-25T16:55:25.829006Z"
    }
   },
   "cell_type": "code",
   "source": "df.head()",
   "id": "2de7741336624c52",
   "outputs": [
    {
     "data": {
      "text/plain": [
       "                                       Image_Path  NIQE_score\n",
       "0     D:\\iNaturalist\\images\\Bellis_perennis_0.jpg    6.045126\n",
       "1     D:\\iNaturalist\\images\\Bellis_perennis_1.JPG    3.410430\n",
       "2    D:\\iNaturalist\\images\\Bellis_perennis_10.JPG    2.502014\n",
       "3   D:\\iNaturalist\\images\\Bellis_perennis_100.jpg    3.838044\n",
       "4  D:\\iNaturalist\\images\\Bellis_perennis_1000.jpg    2.976666"
      ],
      "text/html": [
       "<div>\n",
       "<style scoped>\n",
       "    .dataframe tbody tr th:only-of-type {\n",
       "        vertical-align: middle;\n",
       "    }\n",
       "\n",
       "    .dataframe tbody tr th {\n",
       "        vertical-align: top;\n",
       "    }\n",
       "\n",
       "    .dataframe thead th {\n",
       "        text-align: right;\n",
       "    }\n",
       "</style>\n",
       "<table border=\"1\" class=\"dataframe\">\n",
       "  <thead>\n",
       "    <tr style=\"text-align: right;\">\n",
       "      <th></th>\n",
       "      <th>Image_Path</th>\n",
       "      <th>NIQE_score</th>\n",
       "    </tr>\n",
       "  </thead>\n",
       "  <tbody>\n",
       "    <tr>\n",
       "      <th>0</th>\n",
       "      <td>D:\\iNaturalist\\images\\Bellis_perennis_0.jpg</td>\n",
       "      <td>6.045126</td>\n",
       "    </tr>\n",
       "    <tr>\n",
       "      <th>1</th>\n",
       "      <td>D:\\iNaturalist\\images\\Bellis_perennis_1.JPG</td>\n",
       "      <td>3.410430</td>\n",
       "    </tr>\n",
       "    <tr>\n",
       "      <th>2</th>\n",
       "      <td>D:\\iNaturalist\\images\\Bellis_perennis_10.JPG</td>\n",
       "      <td>2.502014</td>\n",
       "    </tr>\n",
       "    <tr>\n",
       "      <th>3</th>\n",
       "      <td>D:\\iNaturalist\\images\\Bellis_perennis_100.jpg</td>\n",
       "      <td>3.838044</td>\n",
       "    </tr>\n",
       "    <tr>\n",
       "      <th>4</th>\n",
       "      <td>D:\\iNaturalist\\images\\Bellis_perennis_1000.jpg</td>\n",
       "      <td>2.976666</td>\n",
       "    </tr>\n",
       "  </tbody>\n",
       "</table>\n",
       "</div>"
      ]
     },
     "execution_count": 5,
     "metadata": {},
     "output_type": "execute_result"
    }
   ],
   "execution_count": 5
  },
  {
   "metadata": {
    "ExecuteTime": {
     "end_time": "2025-04-25T16:59:35.676664Z",
     "start_time": "2025-04-25T16:59:35.663631Z"
    }
   },
   "cell_type": "code",
   "source": "df.describe()",
   "id": "93b44339fb3141c5",
   "outputs": [
    {
     "data": {
      "text/plain": [
       "         NIQE_score\n",
       "count  51253.000000\n",
       "mean       4.082252\n",
       "std        1.005623\n",
       "min        1.812825\n",
       "25%        3.406444\n",
       "50%        3.938671\n",
       "75%        4.577956\n",
       "max       40.952171"
      ],
      "text/html": [
       "<div>\n",
       "<style scoped>\n",
       "    .dataframe tbody tr th:only-of-type {\n",
       "        vertical-align: middle;\n",
       "    }\n",
       "\n",
       "    .dataframe tbody tr th {\n",
       "        vertical-align: top;\n",
       "    }\n",
       "\n",
       "    .dataframe thead th {\n",
       "        text-align: right;\n",
       "    }\n",
       "</style>\n",
       "<table border=\"1\" class=\"dataframe\">\n",
       "  <thead>\n",
       "    <tr style=\"text-align: right;\">\n",
       "      <th></th>\n",
       "      <th>NIQE_score</th>\n",
       "    </tr>\n",
       "  </thead>\n",
       "  <tbody>\n",
       "    <tr>\n",
       "      <th>count</th>\n",
       "      <td>51253.000000</td>\n",
       "    </tr>\n",
       "    <tr>\n",
       "      <th>mean</th>\n",
       "      <td>4.082252</td>\n",
       "    </tr>\n",
       "    <tr>\n",
       "      <th>std</th>\n",
       "      <td>1.005623</td>\n",
       "    </tr>\n",
       "    <tr>\n",
       "      <th>min</th>\n",
       "      <td>1.812825</td>\n",
       "    </tr>\n",
       "    <tr>\n",
       "      <th>25%</th>\n",
       "      <td>3.406444</td>\n",
       "    </tr>\n",
       "    <tr>\n",
       "      <th>50%</th>\n",
       "      <td>3.938671</td>\n",
       "    </tr>\n",
       "    <tr>\n",
       "      <th>75%</th>\n",
       "      <td>4.577956</td>\n",
       "    </tr>\n",
       "    <tr>\n",
       "      <th>max</th>\n",
       "      <td>40.952171</td>\n",
       "    </tr>\n",
       "  </tbody>\n",
       "</table>\n",
       "</div>"
      ]
     },
     "execution_count": 9,
     "metadata": {},
     "output_type": "execute_result"
    }
   ],
   "execution_count": 9
  },
  {
   "metadata": {
    "ExecuteTime": {
     "end_time": "2025-04-25T17:01:21.179998Z",
     "start_time": "2025-04-25T17:01:21.163998Z"
    }
   },
   "cell_type": "code",
   "source": "df.loc[df['NIQE_score'] == 40.95217141203016]",
   "id": "b2c49c97e87a6913",
   "outputs": [
    {
     "data": {
      "text/plain": [
       "                                            Image_Path  NIQE_score\n",
       "30159  D:\\iNaturalist\\images\\Bellis_perennis_67036.jpg   40.952171"
      ],
      "text/html": [
       "<div>\n",
       "<style scoped>\n",
       "    .dataframe tbody tr th:only-of-type {\n",
       "        vertical-align: middle;\n",
       "    }\n",
       "\n",
       "    .dataframe tbody tr th {\n",
       "        vertical-align: top;\n",
       "    }\n",
       "\n",
       "    .dataframe thead th {\n",
       "        text-align: right;\n",
       "    }\n",
       "</style>\n",
       "<table border=\"1\" class=\"dataframe\">\n",
       "  <thead>\n",
       "    <tr style=\"text-align: right;\">\n",
       "      <th></th>\n",
       "      <th>Image_Path</th>\n",
       "      <th>NIQE_score</th>\n",
       "    </tr>\n",
       "  </thead>\n",
       "  <tbody>\n",
       "    <tr>\n",
       "      <th>30159</th>\n",
       "      <td>D:\\iNaturalist\\images\\Bellis_perennis_67036.jpg</td>\n",
       "      <td>40.952171</td>\n",
       "    </tr>\n",
       "  </tbody>\n",
       "</table>\n",
       "</div>"
      ]
     },
     "execution_count": 10,
     "metadata": {},
     "output_type": "execute_result"
    }
   ],
   "execution_count": 10
  },
  {
   "metadata": {
    "ExecuteTime": {
     "end_time": "2025-04-25T17:02:52.452982Z",
     "start_time": "2025-04-25T17:02:52.446984Z"
    }
   },
   "cell_type": "code",
   "source": "df.loc[df['NIQE_score'] == 1.8128246073188832]",
   "id": "68e522bdc29aea14",
   "outputs": [
    {
     "data": {
      "text/plain": [
       "                                              Image_Path  NIQE_score\n",
       "45573  D:\\iNaturalist\\images\\Leucanthemum_vulgare_892...    1.812825"
      ],
      "text/html": [
       "<div>\n",
       "<style scoped>\n",
       "    .dataframe tbody tr th:only-of-type {\n",
       "        vertical-align: middle;\n",
       "    }\n",
       "\n",
       "    .dataframe tbody tr th {\n",
       "        vertical-align: top;\n",
       "    }\n",
       "\n",
       "    .dataframe thead th {\n",
       "        text-align: right;\n",
       "    }\n",
       "</style>\n",
       "<table border=\"1\" class=\"dataframe\">\n",
       "  <thead>\n",
       "    <tr style=\"text-align: right;\">\n",
       "      <th></th>\n",
       "      <th>Image_Path</th>\n",
       "      <th>NIQE_score</th>\n",
       "    </tr>\n",
       "  </thead>\n",
       "  <tbody>\n",
       "    <tr>\n",
       "      <th>45573</th>\n",
       "      <td>D:\\iNaturalist\\images\\Leucanthemum_vulgare_892...</td>\n",
       "      <td>1.812825</td>\n",
       "    </tr>\n",
       "  </tbody>\n",
       "</table>\n",
       "</div>"
      ]
     },
     "execution_count": 11,
     "metadata": {},
     "output_type": "execute_result"
    }
   ],
   "execution_count": 11
  },
  {
   "metadata": {
    "ExecuteTime": {
     "end_time": "2025-04-25T17:20:22.938676Z",
     "start_time": "2025-04-25T17:20:22.864161Z"
    }
   },
   "cell_type": "code",
   "source": [
    "# Create a histogram with density and custom color\n",
    "plt.hist(df['NIQE_score'],bins = 40, color = 'blue', edgecolor='black', alpha=0.7)\n",
    "plt.xlabel('Values')\n",
    "plt.title('Histogram')\n",
    "plt.show()"
   ],
   "id": "5e7feb8784da920",
   "outputs": [
    {
     "data": {
      "text/plain": [
       "<Figure size 640x480 with 1 Axes>"
      ],
      "image/png": "[encoded data removed]"
     },
     "metadata": {},
     "output_type": "display_data"
    }
   ],
   "execution_count": 21
  },
  {
   "metadata": {},
   "cell_type": "code",
   "outputs": [],
   "execution_count": null,
   "source": "",
   "id": "2996df6c9b4ccf4b"
  }
 ],
 "metadata": {
  "kernelspec": {
   "display_name": "Python 3",
   "language": "python",
   "name": "python3"
  },
  "language_info": {
   "codemirror_mode": {
    "name": "ipython",
    "version": 2
   },
   "file_extension": ".py",
   "mimetype": "text/x-python",
   "name": "python",
   "nbconvert_exporter": "python",
   "pygments_lexer": "ipython2",
   "version": "2.7.6"
  }
 },
 "nbformat": 4,
 "nbformat_minor": 5
}
